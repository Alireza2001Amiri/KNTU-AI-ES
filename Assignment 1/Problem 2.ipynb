{
 "cells": [
  {
   "cell_type": "markdown",
   "id": "6ce011b3",
   "metadata": {},
   "source": [
    "# Assignment 1\n",
    "## Problem 2"
   ]
  },
  {
   "cell_type": "markdown",
   "id": "9a8893f3",
   "metadata": {},
   "source": [
    "### Import necessary libraries"
   ]
  },
  {
   "cell_type": "code",
   "execution_count": 1,
   "id": "ef099e04",
   "metadata": {},
   "outputs": [
    {
     "name": "stdout",
     "output_type": "stream",
     "text": [
      "5.18.0\n"
     ]
    },
    {
     "data": {
      "text/html": [
       "        <script type=\"text/javascript\">\n",
       "        window.PlotlyConfig = {MathJaxConfig: 'local'};\n",
       "        if (window.MathJax && window.MathJax.Hub && window.MathJax.Hub.Config) {window.MathJax.Hub.Config({SVG: {font: \"STIX-Web\"}});}\n",
       "        if (typeof require !== 'undefined') {\n",
       "        require.undef(\"plotly\");\n",
       "        requirejs.config({\n",
       "            paths: {\n",
       "                'plotly': ['https://cdn.plot.ly/plotly-2.27.0.min']\n",
       "            }\n",
       "        });\n",
       "        require(['plotly'], function(Plotly) {\n",
       "            window._Plotly = Plotly;\n",
       "        });\n",
       "        }\n",
       "        </script>\n",
       "        "
      ]
     },
     "metadata": {},
     "output_type": "display_data"
    },
    {
     "data": {
      "text/html": [
       "        <script type=\"text/javascript\">\n",
       "        window.PlotlyConfig = {MathJaxConfig: 'local'};\n",
       "        if (window.MathJax && window.MathJax.Hub && window.MathJax.Hub.Config) {window.MathJax.Hub.Config({SVG: {font: \"STIX-Web\"}});}\n",
       "        if (typeof require !== 'undefined') {\n",
       "        require.undef(\"plotly\");\n",
       "        requirejs.config({\n",
       "            paths: {\n",
       "                'plotly': ['https://cdn.plot.ly/plotly-2.27.0.min']\n",
       "            }\n",
       "        });\n",
       "        require(['plotly'], function(Plotly) {\n",
       "            window._Plotly = Plotly;\n",
       "        });\n",
       "        }\n",
       "        </script>\n",
       "        "
      ]
     },
     "metadata": {},
     "output_type": "display_data"
    }
   ],
   "source": [
    "import pandas as pd\n",
    "import numpy as np\n",
    "import matplotlib.pyplot as plt\n",
    "import seaborn as sns\n",
    "\n",
    "%matplotlib inline\n",
    "from plotly import __version__\n",
    "from plotly.offline import download_plotlyjs, init_notebook_mode, plot, iplot\n",
    "\n",
    "print(__version__) # requires version >= 1.9.0\n",
    "import cufflinks as cf\n",
    "# For Notebooks\n",
    "init_notebook_mode(connected=True)\n",
    "\n",
    "# For offline use\n",
    "cf.go_offline()\n",
    "\n",
    "import warnings\n",
    "\n",
    "warnings.filterwarnings(\"ignore\")"
   ]
  },
  {
   "cell_type": "markdown",
   "id": "3876cd16",
   "metadata": {},
   "source": [
    "### Read data and plot it"
   ]
  },
  {
   "cell_type": "markdown",
   "id": "abfaa08c",
   "metadata": {},
   "source": [
    "In this part, the dataset is imported using pandas. then, since there was a mismatch in values and indexes, they are manually stored in two new dataframes named x and y.\n",
    "\n",
    "Next, the signal is plotted"
   ]
  },
  {
   "cell_type": "code",
   "execution_count": 2,
   "id": "5b17913d",
   "metadata": {},
   "outputs": [
    {
     "data": {
      "text/plain": [
       "[<matplotlib.lines.Line2D at 0x22b2e09c730>]"
      ]
     },
     "execution_count": 2,
     "metadata": {},
     "output_type": "execute_result"
    },
    {
     "data": {
      "image/png": "[encoded data removed]",
      "text/plain": [
       "<Figure size 640x480 with 1 Axes>"
      ]
     },
     "metadata": {},
     "output_type": "display_data"
    }
   ],
   "source": [
    "df = pd.read_csv('Dataset_II.csv')\n",
    "x = np.array(df.values[0])\n",
    "y = np.array(df.columns, dtype=float)\n",
    "plt.plot(x,y , color = 'red')"
   ]
  },
  {
   "cell_type": "markdown",
   "id": "bb67176f",
   "metadata": {},
   "source": [
    "Here, data is divided into train and test"
   ]
  },
  {
   "cell_type": "code",
   "execution_count": 3,
   "id": "7918c4b8",
   "metadata": {},
   "outputs": [],
   "source": [
    "from sklearn.model_selection import train_test_split\n",
    "train_x, test_x , train_y , test_y = train_test_split(x,y,test_size=0.3,random_state=101)"
   ]
  },
  {
   "cell_type": "markdown",
   "id": "96030fde",
   "metadata": {},
   "source": [
    "### (a) Fit a regression model using the following mathematical formulas:\n",
    "f1(x) = w1 + w2x + w3x2\n",
    "\n",
    "f2(x) = w1 + w2x + ... + w10x9\n",
    "\n",
    "f3(x) = w1 + w2x + sin(x) + cos(x)"
   ]
  },
  {
   "cell_type": "markdown",
   "id": "6d5babd2",
   "metadata": {},
   "source": [
    "Desired mathematical functions are defined in the following code, and using curve_fit method from scipy, a curve is fit to the given train data.\n",
    "This is worth noting that the parameters are already optimized."
   ]
  },
  {
   "cell_type": "code",
   "execution_count": 4,
   "id": "5c4edc05",
   "metadata": {},
   "outputs": [],
   "source": [
    "import numpy as np\n",
    "from scipy.optimize import curve_fit\n",
    "\n",
    "# Define the models\n",
    "def f1(x, w1, w2, w3):\n",
    "    return w1 + w2*x + w3*x**2\n",
    "\n",
    "def f2(x, w1, w2, w3, w4, w5, w6, w7, w8, w9, w10):\n",
    "    return w1 + w2*x + w3*x**2 + w4*x**3 + w5*x**4 + w6*x**5 + w7*x**6 + w8*x**7 + w9*x**8 + w10*x**9\n",
    "\n",
    "def f3(x, w1, w2):\n",
    "    return w1 + w2*x + np.sin(x) + np.cos(x)\n",
    "\n",
    "# Fit the models to the data\n",
    "popt1, pcov1 = curve_fit(f1, train_x, train_y)\n",
    "popt2, pcov2 = curve_fit(f2, train_x, train_y)\n",
    "popt3, pcov3 = curve_fit(f3, train_x, train_y)\n",
    "\n",
    "# popt1, popt2, and popt3 contain the optimized parameters for each model\n"
   ]
  },
  {
   "cell_type": "markdown",
   "id": "2ab34254",
   "metadata": {},
   "source": [
    "### (b) Evaluate the models using MSE and MAE. Tabulate the results. Look at which models performed better on this dataset and give your conclusion on the results."
   ]
  },
  {
   "cell_type": "markdown",
   "id": "41071719",
   "metadata": {},
   "source": [
    "### Calculate RMSE, MSE and MAE for each model"
   ]
  },
  {
   "cell_type": "code",
   "execution_count": 5,
   "id": "6438860e",
   "metadata": {},
   "outputs": [
    {
     "name": "stdout",
     "output_type": "stream",
     "text": [
      "MSE for f1:  0.08380058343296011\n",
      "MSE for f2:  5.026595990308679e-10\n",
      "MSE for f3:  0.5716359145611148\n",
      ".....................................\n",
      "MAE for f1:  0.26054239436901205\n",
      "MAE for f2:  1.8403865009242728e-05\n",
      "MAE for f3:  0.6457601651696866\n",
      ".....................................\n",
      "RMSE for f1:  0.28948330423870755\n",
      "RMSE for f2:  2.2420071343126186e-05\n",
      "RMSE for f3:  0.7560660781711575\n"
     ]
    }
   ],
   "source": [
    "# Calculate the residuals for each model\n",
    "residuals1 = train_y - f1(train_x, *popt1)\n",
    "residuals2 = train_y - f2(train_x, *popt2)\n",
    "residuals3 = train_y - f3(train_x, *popt3)\n",
    "\n",
    "# Calculate the RMSE for each model\n",
    "rmse1 = np.sqrt(np.mean(residuals1**2))\n",
    "rmse2 = np.sqrt(np.mean(residuals2**2))\n",
    "rmse3 = np.sqrt(np.mean(residuals3**2))\n",
    "\n",
    "# Calculate the MSE for each model\n",
    "mse1 = np.mean(residuals1**2)\n",
    "mse2 = np.mean(residuals2**2)\n",
    "mse3 = np.mean(residuals3**2)\n",
    "\n",
    "# Calculate the MAE for each model\n",
    "mae1 = np.mean(np.abs(residuals1))\n",
    "mae2 = np.mean(np.abs(residuals2))\n",
    "mae3 = np.mean(np.abs(residuals3))\n",
    "\n",
    "print(\"MSE for f1: \", mse1)\n",
    "print(\"MSE for f2: \", mse2)\n",
    "print(\"MSE for f3: \", mse3)\n",
    "print('.....................................')\n",
    "print(\"MAE for f1: \", mae1)\n",
    "print(\"MAE for f2: \", mae2)\n",
    "print(\"MAE for f3: \", mae3)\n",
    "print('.....................................')\n",
    "print(\"RMSE for f1: \", rmse1)\n",
    "print(\"RMSE for f2: \", rmse2)\n",
    "print(\"RMSE for f3: \", rmse3)\n"
   ]
  },
  {
   "cell_type": "code",
   "execution_count": 6,
   "id": "d586545b",
   "metadata": {},
   "outputs": [
    {
     "data": {
      "text/html": [
       "<div>\n",
       "<style scoped>\n",
       "    .dataframe tbody tr th:only-of-type {\n",
       "        vertical-align: middle;\n",
       "    }\n",
       "\n",
       "    .dataframe tbody tr th {\n",
       "        vertical-align: top;\n",
       "    }\n",
       "\n",
       "    .dataframe thead th {\n",
       "        text-align: right;\n",
       "    }\n",
       "</style>\n",
       "<table border=\"1\" class=\"dataframe\">\n",
       "  <thead>\n",
       "    <tr style=\"text-align: right;\">\n",
       "      <th></th>\n",
       "      <th>Model</th>\n",
       "      <th>MSE</th>\n",
       "      <th>RMSE</th>\n",
       "      <th>MAE</th>\n",
       "    </tr>\n",
       "  </thead>\n",
       "  <tbody>\n",
       "    <tr>\n",
       "      <th>0</th>\n",
       "      <td>f1</td>\n",
       "      <td>8.380058e-02</td>\n",
       "      <td>0.289483</td>\n",
       "      <td>0.260542</td>\n",
       "    </tr>\n",
       "    <tr>\n",
       "      <th>1</th>\n",
       "      <td>f2</td>\n",
       "      <td>5.026596e-10</td>\n",
       "      <td>0.000022</td>\n",
       "      <td>0.000018</td>\n",
       "    </tr>\n",
       "    <tr>\n",
       "      <th>2</th>\n",
       "      <td>f3</td>\n",
       "      <td>5.716359e-01</td>\n",
       "      <td>0.756066</td>\n",
       "      <td>0.645760</td>\n",
       "    </tr>\n",
       "  </tbody>\n",
       "</table>\n",
       "</div>"
      ],
      "text/plain": [
       "  Model           MSE      RMSE       MAE\n",
       "0    f1  8.380058e-02  0.289483  0.260542\n",
       "1    f2  5.026596e-10  0.000022  0.000018\n",
       "2    f3  5.716359e-01  0.756066  0.645760"
      ]
     },
     "execution_count": 6,
     "metadata": {},
     "output_type": "execute_result"
    }
   ],
   "source": [
    "import pandas as pd\n",
    "\n",
    "# Create a dictionary with the calculated values\n",
    "Measures = {\n",
    "    'Model': ['f1', 'f2', 'f3'],\n",
    "    'MSE': [mse1, mse2, mse3],\n",
    "    'RMSE': [rmse1, rmse2, rmse3],\n",
    "    'MAE': [mae1, mae2, mae3]\n",
    "}\n",
    "\n",
    "# Create a DataFrame from the dictionary\n",
    "Measures = pd.DataFrame(Measures)\n",
    "Measures"
   ]
  },
  {
   "cell_type": "code",
   "execution_count": 7,
   "id": "8ff53268",
   "metadata": {},
   "outputs": [
    {
     "data": {
      "text/plain": [
       "<Axes: ylabel='Model'>"
      ]
     },
     "execution_count": 7,
     "metadata": {},
     "output_type": "execute_result"
    },
    {
     "data": {
      "image/png": "[encoded data removed]",
      "text/plain": [
       "<Figure size 640x480 with 2 Axes>"
      ]
     },
     "metadata": {},
     "output_type": "display_data"
    }
   ],
   "source": [
    "# Print the DataFrame\n",
    "sns.heatmap(Measures.set_index('Model') , cmap = 'coolwarm')\n"
   ]
  },
  {
   "cell_type": "markdown",
   "id": "be6a35ba",
   "metadata": {},
   "source": [
    "We can observe that function 2, which is 9th degree polynomial has a great performance in comparison to the other models. this might be due to the complexity of this model.\n",
    "* Important Note:\n",
    "Since this values are calculated based on training data, it is possible that overfitting had happened and the model has poor performance on test data. in the following sections, performance of these models are examined on test data to verify this issue"
   ]
  },
  {
   "cell_type": "markdown",
   "id": "85b5de16",
   "metadata": {},
   "source": [
    "### Plot Actual vs Predicted values of each model on test data"
   ]
  },
  {
   "cell_type": "code",
   "execution_count": 8,
   "id": "d1c299a5",
   "metadata": {},
   "outputs": [
    {
     "data": {
      "image/png": "[encoded data removed]",
      "text/plain": [
       "<Figure size 640x480 with 1 Axes>"
      ]
     },
     "metadata": {},
     "output_type": "display_data"
    }
   ],
   "source": [
    "# Generate a sequence of x values from the minimum to the maximum x value in your data\n",
    "x_seq = np.linspace(min(test_x), max(test_x), 1000)\n",
    "\n",
    "# Calculate the corresponding y values for each model\n",
    "y_seq1 = f1(x_seq, *popt1)\n",
    "y_seq2 = f2(x_seq, *popt2)\n",
    "y_seq3 = f3(x_seq, *popt3)\n",
    "\n",
    "# Plot the actual data\n",
    "plt.scatter(test_x, test_y, label='Actual data' , color = 'gray')\n",
    "\n",
    "# Plot each model\n",
    "plt.plot(x_seq, y_seq1, label='f1')\n",
    "plt.plot(x_seq, y_seq2, label='f2' , color  = 'red')\n",
    "plt.plot(x_seq, y_seq3, label='f3')\n",
    "\n",
    "# Add a legend\n",
    "plt.legend()\n",
    "\n",
    "# Show the plot\n",
    "plt.show()\n"
   ]
  },
  {
   "cell_type": "markdown",
   "id": "20a22984",
   "metadata": {},
   "source": [
    "##### Result:\n",
    "###### As shown in figure above, we can see that model f2 have a significant advantage to other models in predicting the output value. Also, this calrifies that overfitting did not happen and the performance of this model is still acceptable on unseen data \n",
    "    "
   ]
  }
 ],
 "metadata": {
  "kernelspec": {
   "display_name": "Python 3 (ipykernel)",
   "language": "python",
   "name": "python3"
  },
  "language_info": {
   "codemirror_mode": {
    "name": "ipython",
    "version": 3
   },
   "file_extension": ".py",
   "mimetype": "text/x-python",
   "name": "python",
   "nbconvert_exporter": "python",
   "pygments_lexer": "ipython3",
   "version": "3.10.9"
  }
 },
 "nbformat": 4,
 "nbformat_minor": 5
}
