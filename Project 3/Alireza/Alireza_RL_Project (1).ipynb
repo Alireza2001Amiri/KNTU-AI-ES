{
  "nbformat": 4,
  "nbformat_minor": 0,
  "metadata": {
    "colab": {
      "provenance": [],
      "collapsed_sections": [
        "D-onGsDsF6MJ",
        "6KfKSQkqGVkB",
        "zzZICjrbGfgs"
      ]
    },
    "kernelspec": {
      "name": "python3",
      "display_name": "Python 3"
    },
    "language_info": {
      "name": "python"
    }
  },
  "cells": [
    {
      "cell_type": "markdown",
      "source": [
        "# Discrete Unicycle Environment and Q-Learning Agent\n",
        "\n",
        "## Introduction\n",
        "This notebook defines a custom discrete grid-based environment for a unicycle agent and implements a Q-learning agent to learn navigation towards a goal while avoiding obstacles.\n",
        "\n",
        "\n",
        "## Environment Class Definition\n",
        "The `DiscreteUnicycleEnv` class defines a grid-based environment where the agent navigates to a goal while avoiding obstacles.\n"
      ],
      "metadata": {
        "id": "vrey33OzFp-e"
      }
    },
    {
      "cell_type": "code",
      "source": [
        "import numpy as np\n",
        "import matplotlib.pyplot as plt\n",
        "from tqdm import tqdm\n",
        "from collections import deque\n",
        "from matplotlib.patches import Rectangle, Arrow\n",
        "from IPython.display import display, clear_output\n",
        "import gym\n"
      ],
      "metadata": {
        "id": "Lt6uUKg_nGiY"
      },
      "execution_count": 2,
      "outputs": []
    },
    {
      "cell_type": "code",
      "source": [
        "\n",
        "class DiscreteUnicycleEnv(gym.Env):\n",
        "    def __init__(self, grid_size=10, obstacles=None):\n",
        "        super(DiscreteUnicycleEnv, self).__init__()\n",
        "        self.grid_size = grid_size\n",
        "        self.max_x = grid_size\n",
        "        self.max_y = grid_size\n",
        "\n",
        "        self.action_space = gym.spaces.Discrete(8)  # 8 possible directions\n",
        "        self.observation_space = gym.spaces.Dict({\n",
        "            'state': gym.spaces.Box(low=0, high=grid_size, shape=(3,), dtype=np.int32),\n",
        "            'obstacles': gym.spaces.Box(low=0, high=1, shape=(grid_size, grid_size), dtype=np.int32)\n",
        "        })\n",
        "\n",
        "        self.initial_state = np.array([0, 0, 0], dtype=np.int32)  # Initial state\n",
        "        self.goal = np.array([grid_size - 1, grid_size - 1, 7])  # Goal state\n",
        "\n",
        "        self.state = self.initial_state.copy()\n",
        "        self.relative_state = self.get_relative_state()\n",
        "\n",
        "        self.obstacles = np.zeros((grid_size, grid_size), dtype=np.int32)\n",
        "        if obstacles:\n",
        "            for obs in obstacles:\n",
        "                self.obstacles[obs] = 1\n",
        "\n",
        "        self.path = []\n",
        "        self.fig, self.ax = plt.subplots()\n",
        "        self.max_steps_per_episode = 50  # Maximum steps per episode\n",
        "\n",
        "    def reset(self):\n",
        "        self.state = self.initial_state.copy()  # Reset to initial state\n",
        "        self.relative_state = self.get_relative_state()\n",
        "        self.path = [self.state[:2].copy()]\n",
        "        return {'state': self.state, 'obstacles': self.obstacles}\n",
        "###############################################\n",
        "    def step(self, action):\n",
        "        x, y, theta = self.state\n",
        "        if action == 0:  # Move right\n",
        "            x += 1\n",
        "        elif action == 1:  # Move up-right\n",
        "            x += 1\n",
        "            y += 1\n",
        "        elif action == 2:  # Move up\n",
        "            y += 1\n",
        "        elif action == 3:  # Move up-left\n",
        "            x -= 1\n",
        "            y += 1\n",
        "        elif action == 4:  # Move left\n",
        "            x -= 1\n",
        "        elif action == 5:  # Move down-left\n",
        "            x -= 1\n",
        "            y -= 1\n",
        "        elif action == 6:  # Move down\n",
        "            y -= 1\n",
        "        elif action == 7:  # Move down-right\n",
        "            x += 1\n",
        "            y -= 1\n",
        "\n",
        "        x = np.clip(x, 0, self.grid_size - 1)\n",
        "        y = np.clip(y, 0, self.grid_size - 1)\n",
        "        self.state = np.array([x, y, theta])\n",
        "\n",
        "        self.relative_state = self.get_relative_state()\n",
        "        self.path.append(self.state[:2].copy())\n",
        "\n",
        "        done = self.is_done()\n",
        "        reward = self.get_reward()\n",
        "\n",
        "        return {'state': self.state, 'obstacles': self.obstacles}, reward, done, {}\n",
        "\n",
        "    def get_relative_state(self):\n",
        "        x, y, theta = self.state\n",
        "        goal_x, goal_y, goal_theta = self.goal\n",
        "        dx = goal_x - x\n",
        "        dy = goal_y - y\n",
        "        ex = (np.cos(theta * np.pi / 4) * dx + np.sin(theta * np.pi / 4) * dy) * 2\n",
        "        ey = (-np.sin(theta * np.pi / 4) * dx + np.cos(theta * np.pi / 4) * dy) * 2\n",
        "        ex = np.rint(ex)\n",
        "        ey = np.rint(ey)\n",
        "        etheta = (goal_theta - theta) % 8\n",
        "        return np.array([ex, ey, etheta], dtype=np.int16)\n",
        "###################################\n",
        "    def get_reward(self):\n",
        "        x, y, theta = self.state\n",
        "        if self.obstacles[x, y] == 1:  # Collision with obstacle\n",
        "            return -100\n",
        "        distance = np.sqrt((x - self.goal[0])**2 + (y - self.goal[1])**2)\n",
        "        reward = -distance\n",
        "        if self.is_done():\n",
        "            reward += 100\n",
        "        else:\n",
        "            reward -= 1  # Penalty for each step\n",
        "        return reward\n",
        "###################################\n",
        "    def is_done(self):\n",
        "        x, y, theta = self.state\n",
        "        if self.obstacles[x, y] == 1:  # Collision with obstacle\n",
        "            return True\n",
        "        return np.array_equal(self.state[:2], self.goal[:2])\n",
        "\n",
        "    def render(self, mode='human'):\n",
        "        x, y, theta = self.state\n",
        "        goal_x, goal_y, goal_theta = self.goal\n",
        "        self.ax.clear()\n",
        "        buffer = 1\n",
        "        self.ax.set_xlim(-buffer, self.max_x + buffer)\n",
        "        self.ax.set_ylim(-buffer, self.max_y + buffer)\n",
        "        self.ax.add_patch(Rectangle((-buffer, -buffer), self.max_x + 2*buffer, self.max_y + 2*buffer, fill=None, edgecolor='gray', linestyle='-', linewidth=1))\n",
        "        self.ax.plot(goal_x, goal_y, 'ro', label='Goal')\n",
        "        self.ax.add_patch(Arrow(goal_x, goal_y, np.cos(goal_theta * np.pi / 4), np.sin(goal_theta * np.pi / 4), width=0.5, color='r'))\n",
        "        self.ax.plot(self.path[0][0], self.path[0][1], 'go', label='Start')\n",
        "#######################################\n",
        "        # Plot obstacles\n",
        "        for i in range(self.grid_size):\n",
        "            for j in range(self.grid_size):\n",
        "                if self.obstacles[i, j] == 1:\n",
        "                    self.ax.add_patch(Rectangle((i, j), 1, 1, color='gray'))\n",
        "\n",
        "        path = np.array(self.path)\n",
        "        self.ax.plot(path[:, 0], path[:, 1], 'k--', label='Path')\n",
        "        width, height = self.max_x / 20, self.max_x / 30\n",
        "        robot = Rectangle((x - 0.5 * width, y - 0.5 * height), width, height, angle=np.degrees(theta * np.pi / 4), edgecolor='b', facecolor='b')\n",
        "        self.ax.add_patch(robot)\n",
        "        self.ax.add_patch(Arrow(x, y, np.cos(theta * np.pi / 4), np.sin(theta * np.pi / 4), width=0.5, color='b'))\n",
        "        self.ax.set_aspect('equal', adjustable='box')\n",
        "        self.ax.legend()\n",
        "        self.ax.grid(True)\n",
        "        clear_output(wait=True)\n",
        "        display(self.fig)\n",
        "        plt.pause(0.001)\n",
        "\n",
        "\n",
        "    def close(self):\n",
        "        plt.close(self.fig)\n",
        "####################################\n",
        "# Define obstacles\n",
        "obstacles = [(0,1),(1,1),(2,1),(3,1),(2,7),(4,3),(5,6),(7,3),(8,5),(6,3),(8,5),(7,6),(7,5),(4,7),(7,4),(1,7),(1,6),(1,5)]\n",
        "\n",
        "# Create environment instance\n",
        "env = DiscreteUnicycleEnv(obstacles=obstacles)"
      ],
      "metadata": {
        "id": "qNRErYIgFqfV",
        "colab": {
          "base_uri": "https://localhost:8080/",
          "height": 435
        },
        "outputId": "63c1cfdf-9fc0-466e-e5b1-d0c0146a6d17"
      },
      "execution_count": 4,
      "outputs": [
        {
          "output_type": "display_data",
          "data": {
            "text/plain": [
              "<Figure size 640x480 with 1 Axes>"
            ],
            "image/png": "[encoded data removed]"
          },
          "metadata": {}
        }
      ]
    },
    {
      "cell_type": "markdown",
      "source": [
        "##Q-Learning Agent Class Definition\n",
        "The QLearningAgent class defines an agent that uses Q-learning to learn to navigate the DiscreteUnicycleEnv environment."
      ],
      "metadata": {
        "id": "D-onGsDsF6MJ"
      }
    },
    {
      "cell_type": "code",
      "source": [
        "class QLearningAgent:\n",
        "    def __init__(self, state_size, action_size, learning_rate=0.1, discount_factor=0.95, epsilon=1.0, epsilon_decay=0.995, epsilon_min=0.01):\n",
        "        self.state_size = state_size\n",
        "        self.action_size = action_size\n",
        "        self.learning_rate = learning_rate\n",
        "        self.discount_factor = discount_factor\n",
        "        self.epsilon = epsilon\n",
        "        self.epsilon_decay = epsilon_decay\n",
        "        self.epsilon_min = epsilon_min\n",
        "        self.q_table = np.zeros(state_size + (action_size,))\n",
        "\n",
        "    def choose_action(self, state):\n",
        "        if np.random.rand() <= self.epsilon:\n",
        "            return np.random.choice(self.action_size)\n",
        "        return np.argmax(self.q_table[state['state'][0], state['state'][1], state['state'][2]])\n",
        "\n",
        "    def learn(self, state, action, reward, next_state, done):\n",
        "        q_update = reward\n",
        "        if not done:\n",
        "            q_update += self.discount_factor * np.max(self.q_table[next_state['state'][0], next_state['state'][1], next_state['state'][2]])\n",
        "        self.q_table[state['state'][0], state['state'][1], state['state'][2], action] += self.learning_rate * (q_update - self.q_table[state['state'][0], state['state'][1], state['state'][2], action])\n",
        "        if self.epsilon > self.epsilon_min:\n",
        "            self.epsilon *= self.epsilon_decay\n",
        "\n",
        "# Define state and action sizes\n",
        "state_size = (env.grid_size, env.grid_size, 8)\n",
        "action_size = env.action_space.n\n",
        "\n",
        "# Create Q-learning agent instance\n",
        "agent = QLearningAgent(state_size, action_size)\n"
      ],
      "metadata": {
        "id": "xVo7AbaNF8-G"
      },
      "execution_count": 5,
      "outputs": []
    },
    {
      "cell_type": "markdown",
      "source": [
        "## Training the Q-Learning Agent\n",
        "\n",
        "Train the Q-learning agent on the DiscreteUnicycleEnv environment for a specified number of episodes."
      ],
      "metadata": {
        "id": "6KfKSQkqGVkB"
      }
    },
    {
      "cell_type": "code",
      "source": [
        "episodes = 5000\n",
        "max_steps = 50\n",
        "\n",
        "average_rewards = []\n",
        "\n",
        "for e in tqdm(range(episodes), desc=\"Training Episodes\"):\n",
        "    state = env.reset()\n",
        "    total_reward = 0\n",
        "    for _ in range(max_steps):\n",
        "        action = agent.choose_action(state)\n",
        "        next_state, reward, done, _ = env.step(action)\n",
        "        agent.learn(state, action, reward, next_state, done)\n",
        "        state = next_state\n",
        "        total_reward += reward\n",
        "        if done:\n",
        "            break\n",
        "    average_rewards.append(total_reward / max_steps)\n"
      ],
      "metadata": {
        "colab": {
          "base_uri": "https://localhost:8080/"
        },
        "id": "XR44m-twGZmD",
        "outputId": "61bbc821-efd1-4b7b-8b60-8e3473f6eaa0"
      },
      "execution_count": 6,
      "outputs": [
        {
          "output_type": "stream",
          "name": "stderr",
          "text": [
            "Training Episodes: 100%|██████████| 5000/5000 [00:08<00:00, 566.08it/s]\n"
          ]
        }
      ]
    },
    {
      "cell_type": "markdown",
      "source": [
        "### Evaluating the Trained Agent\n",
        "\n",
        "Run the trained Q-learning agent in the environment to visualize its performance."
      ],
      "metadata": {
        "id": "zzZICjrbGfgs"
      }
    },
    {
      "cell_type": "code",
      "source": [
        "# Render environment for visual display\n",
        "state = env.reset()\n",
        "done = False\n",
        "while not done:\n",
        "    action = agent.choose_action(state)\n",
        "    next_state, reward, done, _ = env.step(action)\n",
        "    env.render()\n",
        "    state = next_state\n",
        "env.close()"
      ],
      "metadata": {
        "colab": {
          "base_uri": "https://localhost:8080/",
          "height": 430
        },
        "id": "YlDOFxbCGhSt",
        "outputId": "088ff90a-35ca-400b-e5ff-6dc1f8de2453"
      },
      "execution_count": 13,
      "outputs": [
        {
          "output_type": "display_data",
          "data": {
            "text/plain": [
              "<Figure size 640x480 with 1 Axes>"
            ],
            "image/png": "[encoded data removed]"
          },
          "metadata": {}
        }
      ]
    }
  ]
}