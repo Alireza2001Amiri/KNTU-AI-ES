{
 "cells": [
  {
   "cell_type": "code",
   "execution_count": null,
   "metadata": {},
   "outputs": [],
   "source": [
    "%pip install gymnasium"
   ]
  },
  {
   "cell_type": "code",
   "execution_count": 2,
   "metadata": {},
   "outputs": [],
   "source": [
    "import numpy as np\n",
    "import gymnasium as gym\n",
    "from gymnasium import spaces\n",
    "import matplotlib.pyplot as plt\n",
    "from matplotlib.patches import Rectangle, Arrow\n",
    "from IPython.display import display, clear_output"
   ]
  },
  {
   "cell_type": "markdown",
   "metadata": {},
   "source": [
    "# Environment"
   ]
  },
  {
   "cell_type": "markdown",
   "metadata": {},
   "source": [
    "## Continuous observation-action space"
   ]
  },
  {
   "cell_type": "code",
   "execution_count": 7,
   "metadata": {},
   "outputs": [],
   "source": [
    "class ContinuousUnicycleEnv(gym.Env):\n",
    "    def __init__(self):\n",
    "        super(ContinuousUnicycleEnv, self).__init__()\n",
    "\n",
    "        # Boundaries for the robot\n",
    "        self.min_x, self.max_x = -5.0, 5.0\n",
    "        self.min_y, self.max_y = -5.0, 5.0\n",
    "        self.max_linear_velocity = 1.0\n",
    "        self.max_angular_velocity = 1.0\n",
    "\n",
    "        # The action space is [linear_velocity, angular_velocity]\n",
    "        self.action_space = spaces.Box(\n",
    "            low=np.array([-self.max_linear_velocity, -self.max_angular_velocity]),\n",
    "            high=np.array([self.max_linear_velocity, self.max_angular_velocity]),\n",
    "            dtype=np.float32\n",
    "        )\n",
    "\n",
    "        # The observation space is {'state': [x, y, theta], 'relative_state': [ex, ey, etheta]} (position of goal relative to the robot)\n",
    "        self.observation_space = {\n",
    "            'state':spaces.Box(\n",
    "                low=np.array([self.min_x, self.min_y, -np.pi]),\n",
    "                high=np.array([self.max_x, self.max_y, np.pi]),\n",
    "                dtype=np.float32\n",
    "            ),\n",
    "            'relative_state':spaces.Box(\n",
    "                low=np.array([-(self.max_x - self.min_x), -(self.max_y - self.min_y), -np.pi]),\n",
    "                high=np.array([(self.max_x - self.min_x), (self.max_x - self.min_x), np.pi]),\n",
    "                dtype=np.float32\n",
    "            )\n",
    "        }\n",
    "\n",
    "        # Parameters\n",
    "        self.dt = 0.1  # time step\n",
    "        self.initial_state = np.array([0.0, 0.0, 0.0])\n",
    "        self.goal = np.array([4.0, 4.0, np.pi / 2])  # goal position and angle\n",
    "\n",
    "        self.state = np.array([0.0, 0.0, 0.0])\n",
    "        self.relative_state = self.get_relative_state()\n",
    "\n",
    "        # Rendering setup\n",
    "        self.path = []\n",
    "        self.fig, self.ax = plt.subplots()\n",
    "\n",
    "    def reset(self, exploring=False):\n",
    "        \"\"\"\n",
    "        Resets the environment to an initial state and returns the initial observation.\n",
    "        \"\"\"\n",
    "        if exploring:\n",
    "            self.state = [\n",
    "                self.min_x + np.random.rand()*(self.max_x - self.min_x),\n",
    "                self.min_y + np.random.rand()*(self.max_y - self.min_y),\n",
    "                -np.pi + 2*np.pi*np.random.rand()\n",
    "                ]\n",
    "        else:\n",
    "            self.state = self.initial_state.copy()\n",
    "\n",
    "        self.relative_state = self.get_relative_state()\n",
    "        self.path = [self.state[:2].copy()]  # Initialize path with the start position\n",
    "\n",
    "        return self.get_obs()\n",
    "\n",
    "    def step(self, action):\n",
    "        \"\"\"\n",
    "        Executes one time step within the environment.\n",
    "        \"\"\"\n",
    "        # Clip the action to respect the velocity limits\n",
    "        linear_velocity = np.clip(action[0], -self.max_linear_velocity, self.max_linear_velocity)\n",
    "        angular_velocity = np.clip(action[1], -self.max_angular_velocity, self.max_angular_velocity)\n",
    "\n",
    "        x, y, theta = self.state\n",
    "\n",
    "        # Update state\n",
    "        x += linear_velocity * np.cos(theta) * self.dt\n",
    "        y += linear_velocity * np.sin(theta) * self.dt\n",
    "        theta += angular_velocity * self.dt\n",
    "\n",
    "        # Clip x and y to stay within the bounds\n",
    "        x = np.clip(x, self.min_x, self.max_x)\n",
    "        y = np.clip(y, self.min_y, self.max_y)\n",
    "\n",
    "        # Normalize theta to be within [-pi, pi]\n",
    "        theta = (theta + np.pi) % (2 * np.pi) - np.pi\n",
    "\n",
    "        self.state = np.array([x, y, theta])\n",
    "        self.relative_state = self.get_relative_state()\n",
    "\n",
    "        # Save the current position to the path\n",
    "        self.path.append(self.state[:2].copy())\n",
    "\n",
    "        reward = self.get_reward()\n",
    "        done = self.is_done()\n",
    "\n",
    "        return self.get_obs(), reward, done, {}\n",
    "\n",
    "    def get_relative_state(self):\n",
    "        \"\"\"\n",
    "        Transforms the goal position to be relative to the robot's current position and orientation.\n",
    "        \"\"\"\n",
    "        x, y, theta = self.state\n",
    "        goal_x, goal_y, goal_theta = self.goal\n",
    "\n",
    "        # Calculate relative position\n",
    "        dx = goal_x - x\n",
    "        dy = goal_y - y\n",
    "\n",
    "        # Rotate to the robot's frame of reference\n",
    "        ex = np.cos(theta) * dx + np.sin(theta) * dy\n",
    "        ey = -np.sin(theta) * dx + np.cos(theta) * dy\n",
    "        etheta = goal_theta - theta\n",
    "\n",
    "        # Normalize etheta to be within [-pi, pi]\n",
    "        etheta = (etheta + np.pi) % (2 * np.pi) - np.pi\n",
    "\n",
    "        return np.array([ex, ey, etheta])\n",
    "\n",
    "    def get_obs(self):\n",
    "        return {'state': self.state, 'relative_state': self.relative_state}\n",
    "\n",
    "    def render(self, mode='human'):\n",
    "        \"\"\"\n",
    "        Renders the environment using Matplotlib.\n",
    "        \"\"\"\n",
    "        x, y, theta = self.state\n",
    "        self.ax.clear()\n",
    "\n",
    "        # Set the plot boundaries with extra space around the robot's operating area\n",
    "        buffer = 1.0\n",
    "        self.ax.set_xlim(self.min_x - buffer, self.max_x + buffer)\n",
    "        self.ax.set_ylim(self.min_y - buffer, self.max_y + buffer)\n",
    "\n",
    "        # Plot the bounds of the space with solid lines\n",
    "        self.ax.add_patch(Rectangle((self.min_x, self.min_y), self.max_x - self.min_x, self.max_y - self.min_y,\n",
    "                                    fill=None, edgecolor='k', linestyle='-', linewidth=2))\n",
    "\n",
    "        # Plot the goal\n",
    "        goal_x, goal_y, goal_theta = self.goal\n",
    "        self.ax.plot(goal_x, goal_y, 'ro', label='Goal')\n",
    "        self.ax.add_patch(Arrow(goal_x, goal_y, 0.5 * np.cos(goal_theta), 0.5 * np.sin(goal_theta),\n",
    "                                width=0.2, color='r'))\n",
    "\n",
    "        # Plot the start position\n",
    "        self.ax.plot(0.0, 0.0, 'go', label='Start')\n",
    "\n",
    "        # Plot the robot's path\n",
    "        path = np.array(self.path)\n",
    "        self.ax.plot(path[:, 0], path[:, 1], 'k--', label='Path')\n",
    "\n",
    "        # Plot the robot as a solid rectangle\n",
    "        width, height = 0.5, 0.3\n",
    "        robot = Rectangle(\n",
    "            (x - 0.5 * width, y - 0.5 * height), width, height, angle=np.degrees(theta), rotation_point='center',\n",
    "            edgecolor='b', facecolor='b'\n",
    "        )\n",
    "        self.ax.add_patch(robot)\n",
    "        self.ax.add_patch(Arrow(x, y,  0.5 * np.cos(theta*np.pi/4), 0.5 * np.sin(theta*np.pi/4),\n",
    "                                width=0.4, color='b'))\n",
    "\n",
    "        # Plot settings\n",
    "        self.ax.set_aspect('equal', adjustable='box')\n",
    "        self.ax.legend()\n",
    "        self.ax.grid(True)\n",
    "\n",
    "        # Update the plot\n",
    "        clear_output(wait=True)\n",
    "        display(self.fig)\n",
    "        plt.pause(0.001)\n",
    "\n",
    "    def close(self):\n",
    "        plt.close(self.fig)\n",
    "\n",
    "    def get_reward(self):\n",
    "        # return: float (reward)\n",
    "        x, y, theta = self.state\n",
    "        ex, ey, etheta = self.relative_state\n",
    "\n",
    "        # Implement code here\n",
    "        reward = 10\n",
    "\n",
    "        return reward\n",
    "\n",
    "    def is_done(self):\n",
    "        # return: bool (True if done, False otherwise)\n",
    "        x, y, theta = self.state\n",
    "        ex, ey, etheta = self.relative_state\n",
    "\n",
    "        # Implement code here\n",
    "        done = False\n",
    "\n",
    "        return done"
   ]
  },
  {
   "cell_type": "markdown",
   "metadata": {},
   "source": [
    "# Run with graphics"
   ]
  },
  {
   "cell_type": "code",
   "execution_count": 8,
   "metadata": {},
   "outputs": [
    {
     "data": {
      "image/png": "[encoded data removed]",
      "text/plain": [
       "<Figure size 640x480 with 1 Axes>"
      ]
     },
     "metadata": {},
     "output_type": "display_data"
    }
   ],
   "source": [
    "env = ContinuousUnicycleEnv()\n",
    "obs = env.reset(exploring=False)\n",
    "done = False\n",
    "\n",
    "for _ in range(20):\n",
    "    action = env.action_space.sample()  # Random action\n",
    "    obs, reward, done, info = env.step(action)\n",
    "    env.render()\n",
    "env.close()"
   ]
  },
  {
   "cell_type": "code",
   "execution_count": 9,
   "metadata": {},
   "outputs": [
    {
     "name": "stdout",
     "output_type": "stream",
     "text": [
      "Box(-1.0, 1.0, (2,), float32)\n",
      "{'state': Box([-5.        -5.        -3.1415927], [5.        5.        3.1415927], (3,), float32), 'relative_state': Box([-10.        -10.         -3.1415927], [10.        10.         3.1415927], (3,), float32)}\n"
     ]
    }
   ],
   "source": [
    "print(env.action_space)\n",
    "print(env.observation_space)"
   ]
  },
  {
   "cell_type": "markdown",
   "metadata": {},
   "source": [
    "# Headless Render (for training)"
   ]
  },
  {
   "cell_type": "code",
   "execution_count": 11,
   "metadata": {},
   "outputs": [
    {
     "name": "stdout",
     "output_type": "stream",
     "text": [
      "{'state': array([ 0.08767715,  0.        , -0.01783801]), 'relative_state': array([3.84035217, 4.06914798, 1.58863434])}\n",
      "{'state': array([ 0.04056993,  0.00084039, -0.0141551 ]), 'relative_state': array([3.90242679, 4.05480323, 1.58495143])}\n",
      "{'state': array([-0.01146337,  0.00157697,  0.04205356]), 'relative_state': array([4.17601513, 3.82624132, 1.52874276])}\n",
      "{'state': array([-0.01300939,  0.00151192,  0.05233718]), 'relative_state': array([4.21668853, 3.78307932, 1.51845915])}\n",
      "{'state': array([0.01117299, 0.00277871, 0.06740612]), 'relative_state': array([4.24900186, 3.71947606, 1.5033902 ])}\n",
      "{'state': array([ 0.04603593,  0.00513226, -0.01875722]), 'relative_state': array([3.8783403 , 4.06832602, 1.58955355])}\n",
      "{'state': array([0.05066329, 0.00504545, 0.06764914]), 'relative_state': array([4.21035244, 3.71885126, 1.50314718])}\n",
      "{'state': array([0.07083684, 0.00641226, 0.03245957]), 'relative_state': array([4.05670079, 3.8639675 , 1.53833676])}\n",
      "{'state': array([0.00580156, 0.0043005 , 0.02350861]), 'relative_state': array([4.08701947, 3.90070604, 1.54728772])}\n",
      "{'state': array([-0.03885682,  0.00325045,  0.04629953]), 'relative_state': array([4.21951018, 3.80553614, 1.5244968 ])}\n",
      "{'state': array([-0.06375066,  0.00209705,  0.14376327]), 'relative_state': array([4.59460221, 3.37445224, 1.42703306])}\n",
      "{'state': array([-0.0215992 ,  0.00819898,  0.23968012]), 'relative_state': array([4.85425884, 2.92299617, 1.33111621])}\n",
      "{'state': array([-0.10243869, -0.01155639,  0.22835863]), 'relative_state': array([4.90406882, 2.97870724, 1.3424377 ])}\n",
      "{'state': array([-0.08800241, -0.00820121,  0.24613874]), 'relative_state': array([4.94143393, 2.89130962, 1.32465758])}\n",
      "{'state': array([-0.01306936,  0.01062444,  0.32809841]), 'relative_state': array([5.08454969, 2.48338429, 1.24269792])}\n",
      "{'state': array([-0.00871549,  0.0121065 ,  0.30259422]), 'relative_state': array([5.01496859, 2.6121226 , 1.2682021 ])}\n",
      "{'state': array([-0.05640968, -0.00278272,  0.31367828]), 'relative_state': array([5.09357402, 2.55582329, 1.25711805])}\n",
      "{'state': array([-0.10102284, -0.01725469,  0.3367343 ]), 'relative_state': array([5.19803141, 2.4366356 , 1.23406203])}\n",
      "{'state': array([-0.02032199,  0.01099599,  0.3297149 ]), 'relative_state': array([5.0952991 , 2.47246214, 1.24108142])}\n",
      "{'state': array([0.0425364 , 0.03250653, 0.29936492]), 'relative_state': array([4.95151847, 2.62392595, 1.27143141])}\n"
     ]
    }
   ],
   "source": [
    "env = ContinuousUnicycleEnv()\n",
    "obs = env.reset(exploring=False)\n",
    "done = False\n",
    "\n",
    "for _ in range(20):\n",
    "    action = env.action_space.sample()  # Random action\n",
    "    obs, reward, done, info = env.step(action)\n",
    "    print(obs)\n",
    "env.close()"
   ]
  },
  {
   "cell_type": "code",
   "execution_count": null,
   "metadata": {},
   "outputs": [],
   "source": []
  }
 ],
 "metadata": {
  "kernelspec": {
   "display_name": "Python 3",
   "language": "python",
   "name": "python3"
  },
  "language_info": {
   "codemirror_mode": {
    "name": "ipython",
    "version": 3
   },
   "file_extension": ".py",
   "mimetype": "text/x-python",
   "name": "python",
   "nbconvert_exporter": "python",
   "pygments_lexer": "ipython3",
   "version": "3.8.5"
  }
 },
 "nbformat": 4,
 "nbformat_minor": 2
}
