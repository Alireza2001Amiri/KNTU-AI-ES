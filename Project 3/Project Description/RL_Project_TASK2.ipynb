{
 "cells": [
  {
   "cell_type": "code",
   "execution_count": null,
   "metadata": {},
   "outputs": [],
   "source": [
    "%pip install gymnasium"
   ]
  },
  {
   "cell_type": "code",
   "execution_count": 1,
   "metadata": {},
   "outputs": [],
   "source": [
    "import numpy as np\n",
    "import gymnasium as gym\n",
    "from gymnasium import spaces\n",
    "import matplotlib.pyplot as plt\n",
    "from matplotlib.patches import Rectangle, Arrow\n",
    "from IPython.display import display, clear_output"
   ]
  },
  {
   "cell_type": "markdown",
   "metadata": {},
   "source": [
    "# Environment"
   ]
  },
  {
   "cell_type": "markdown",
   "metadata": {},
   "source": [
    "## Discrete observation-action space"
   ]
  },
  {
   "cell_type": "code",
   "execution_count": 2,
   "metadata": {},
   "outputs": [],
   "source": [
    "class DiscreteUnicycleEnv(gym.Env):\n",
    "    def __init__(self):\n",
    "        super(DiscreteUnicycleEnv, self).__init__()\n",
    "\n",
    "        # Boundaries for the robot\n",
    "        self.max_x = 20\n",
    "        self.max_y = 20\n",
    "\n",
    "        # The action space is [linear_velocity (-1, 0, +1), angular_velocity (-1, 0, +1)]\n",
    "        self.action_space = spaces.MultiDiscrete([3, 3], start=[-1, -1])\n",
    "\n",
    "        # The observation space is {'state': [x (0-99), y (0-99), theta (0-7)], 'relative_state': [ex, ey, etheta]} (position of goal relative to the robot)\n",
    "        self.observation_space = spaces.Dict({\n",
    "            'state': spaces.MultiDiscrete([self.max_x, self.max_y, 8]),\n",
    "            'relative_state': spaces.MultiDiscrete([4*self.max_x+1, 4*self.max_y+1, 8], start=[-2*self.max_x, -2*self.max_y,0])\n",
    "        })\n",
    "\n",
    "        # Parameters\n",
    "        self.initial_state = np.array([4, 4, 0], dtype=np.int8)\n",
    "        self.goal = np.array([16, 16, 2], dtype=np.int8)  # goal position and angle\n",
    "        \n",
    "        self.state = self.initial_state.copy()\n",
    "        self.relative_state = self.get_relative_state()\n",
    "\n",
    "        # Rendering setup\n",
    "        self.path = []\n",
    "        self.fig, self.ax = plt.subplots()\n",
    "\n",
    "    def reset(self, exploring=False):\n",
    "        \"\"\"\n",
    "        Resets the environment to an initial state and returns the initial observation.\n",
    "        \"\"\"\n",
    "        if exploring:\n",
    "            self.state = np.random.randint([self.max_x, self.max_y, 8], dtype=np.uint8)\n",
    "        else:\n",
    "            self.state = self.initial_state.copy()\n",
    "\n",
    "        self.relative_state = self.get_relative_state()\n",
    "        self.path = [self.state[:2].copy()]  # Initialize path with the start position\n",
    "\n",
    "        return self.get_obs()\n",
    "\n",
    "    def step(self, action):\n",
    "        \"\"\"\n",
    "        Executes one time step within the environment.\n",
    "        \"\"\"\n",
    "        linear_velocity, angular_velocity = action\n",
    "        x, y, theta = self.state\n",
    "\n",
    "        # Update state\n",
    "        theta = (theta + angular_velocity) % 8\n",
    "        if theta==0:\n",
    "            x += linear_velocity\n",
    "        elif theta==1:\n",
    "            x += linear_velocity\n",
    "            y += linear_velocity\n",
    "        elif theta==2:\n",
    "            y += linear_velocity\n",
    "        elif theta==3:\n",
    "            x -= linear_velocity\n",
    "            y += linear_velocity\n",
    "        elif theta==4:\n",
    "            x -= linear_velocity\n",
    "        elif theta==5:\n",
    "            x -= linear_velocity\n",
    "            y -= linear_velocity\n",
    "        elif theta==6:\n",
    "            y -= linear_velocity\n",
    "        elif theta==7:\n",
    "            x += linear_velocity\n",
    "            y -= linear_velocity\n",
    "        \n",
    "        # Clip x and y to stay within the bounds\n",
    "        x = np.clip(x, 0, self.max_x-1)\n",
    "        y = np.clip(y, 0, self.max_y-1)\n",
    "\n",
    "        self.state = np.array([x, y, theta], dtype=np.int8)\n",
    "        self.relative_state = self.get_relative_state()\n",
    "\n",
    "        # Save the current position to the path\n",
    "        self.path.append(self.state[:2].copy())\n",
    "\n",
    "        done = self.is_done()\n",
    "        reward = self.get_reward()\n",
    "\n",
    "        return self.get_obs(), reward, done, {}\n",
    "\n",
    "    def get_relative_state(self):\n",
    "        \"\"\"\n",
    "        Transforms the goal position to be relative to the robot's current position and orientation.\n",
    "        \"\"\"\n",
    "        x, y, theta = self.state\n",
    "        goal_x, goal_y, goal_theta = self.goal\n",
    "\n",
    "        # Calculate relative position\n",
    "        dx = goal_x - x\n",
    "        dy = goal_y - y\n",
    "\n",
    "        # Rotate to the robot's frame of reference\n",
    "        if theta % 2 == 0:\n",
    "            ex = (np.cos(theta*np.pi/4) * dx + np.sin(theta*np.pi/4) * dy) * 2 #*2 is because there can be 200 possible ex states! Same for ey. Look at observation space above\n",
    "            ey = (-np.sin(theta*np.pi/4) * dx + np.cos(theta*np.pi/4) * dy) * 2\n",
    "        else:\n",
    "            ex = (np.cos(theta*np.pi/4) * dx + np.sin(theta*np.pi/4) * dy) / np.sqrt(2) * 2\n",
    "            ey = (-np.sin(theta*np.pi/4) * dx + np.cos(theta*np.pi/4) * dy) / np.sqrt(2) * 2\n",
    "        \n",
    "        ex = np.rint(ex)\n",
    "        ey = np.rint(ey)\n",
    "        etheta = (goal_theta - theta) % 8\n",
    "\n",
    "        return np.array([ex, ey, etheta], dtype=np.int16)\n",
    "\n",
    "    def get_obs(self):\n",
    "        return {'state': self.state, 'relative_state': self.relative_state}\n",
    "\n",
    "    def render(self, mode='human'):\n",
    "        \"\"\"\n",
    "        Renders the environment using Matplotlib.\n",
    "        \"\"\"\n",
    "        x, y, theta = self.state\n",
    "        goal_x, goal_y, goal_theta = self.goal\n",
    "        self.ax.clear()\n",
    "\n",
    "        # Set the plot boundaries with extra space around the robot's operating area\n",
    "        buffer = 2\n",
    "        self.ax.set_xlim(- buffer, self.max_x + buffer)\n",
    "        self.ax.set_ylim(- buffer, self.max_y + buffer)\n",
    "\n",
    "        # Plot the bounds of the space with solid lines\n",
    "        self.ax.add_patch(Rectangle((0,0), self.max_x, self.max_y, fill=None, edgecolor='k', linestyle='-', linewidth=2))\n",
    "\n",
    "        # Plot the goal\n",
    "        self.ax.plot(goal_x, goal_y, 'ro', label='Goal')\n",
    "        self.ax.add_patch(Arrow(goal_x, goal_y,  np.cos(goal_theta*np.pi/4), np.sin(goal_theta*np.pi/4),\n",
    "                                width=0.4, color='r'))\n",
    "\n",
    "        # Plot the start position\n",
    "        self.ax.plot(self.path[0][0], self.path[0][1], 'go', label='Start')\n",
    "\n",
    "        # Plot the robot's path\n",
    "        path = np.array(self.path)\n",
    "        self.ax.plot(path[:, 0], path[:, 1], 'k--', label='Path')\n",
    "\n",
    "        # Plot the robot as a solid rectangle\n",
    "        width, height = self.max_x/20, self.max_x/30\n",
    "        robot = Rectangle(\n",
    "            (x - 0.5 * width, y - 0.5 * height), width, height, angle=np.degrees(theta*np.pi/4), rotation_point='center',\n",
    "            edgecolor='b', facecolor='b'\n",
    "        )\n",
    "        self.ax.add_patch(robot)\n",
    "        self.ax.add_patch(Arrow(x, y,  np.cos(theta*np.pi/4), np.sin(theta*np.pi/4),\n",
    "                                width=0.4, color='b'))\n",
    "\n",
    "        # Plot settings\n",
    "        self.ax.set_aspect('equal', adjustable='box')\n",
    "        self.ax.legend()\n",
    "        self.ax.grid(True)\n",
    "\n",
    "        # Update the plot\n",
    "        clear_output(wait=True)\n",
    "        display(self.fig)\n",
    "        plt.pause(0.001)\n",
    "\n",
    "    def close(self):\n",
    "        plt.close(self.fig)\n",
    "\n",
    "    def get_reward(self):\n",
    "        # return: float (reward)\n",
    "        x, y, theta = self.state\n",
    "        ex, ey, etheta = self.relative_state\n",
    "\n",
    "        # Implement code here\n",
    "        reward = 10\n",
    "\n",
    "        return reward\n",
    "\n",
    "    def is_done(self):\n",
    "        # return: float (reward)\n",
    "        x, y, theta = self.state\n",
    "        ex, ey, etheta = self.relative_state\n",
    "\n",
    "        # Implement code here\n",
    "        done = False\n",
    "\n",
    "        return done\n",
    "    "
   ]
  },
  {
   "cell_type": "markdown",
   "metadata": {},
   "source": [
    "# Run with graphics"
   ]
  },
  {
   "cell_type": "code",
   "execution_count": 4,
   "metadata": {},
   "outputs": [
    {
     "data": {
      "image/png": "[encoded data removed]",
      "text/plain": [
       "<Figure size 640x480 with 1 Axes>"
      ]
     },
     "metadata": {},
     "output_type": "display_data"
    }
   ],
   "source": [
    "env = DiscreteUnicycleEnv()\n",
    "obs = env.reset(exploring=False)\n",
    "done = False\n",
    "\n",
    "for _ in range(10):\n",
    "    action = env.action_space.sample()  # Random action\n",
    "    obs, reward, done, info = env.step(action)\n",
    "    env.render()\n",
    "env.close()"
   ]
  },
  {
   "cell_type": "code",
   "execution_count": 5,
   "metadata": {},
   "outputs": [
    {
     "name": "stdout",
     "output_type": "stream",
     "text": [
      "MultiDiscrete([3 3], start=[-1 -1])\n",
      "Dict('relative_state': MultiDiscrete([81 81  8], start=[-40 -40   0]), 'state': MultiDiscrete([20 20  8]))\n"
     ]
    }
   ],
   "source": [
    "print(env.action_space)\n",
    "print(env.observation_space)"
   ]
  },
  {
   "cell_type": "markdown",
   "metadata": {},
   "source": [
    "# Headless Render (for training)"
   ]
  },
  {
   "cell_type": "code",
   "execution_count": 6,
   "metadata": {},
   "outputs": [
    {
     "name": "stdout",
     "output_type": "stream",
     "text": [
      "{'state': array([5, 5, 1], dtype=int8), 'relative_state': array([22,  0,  1], dtype=int16)}\n",
      "{'state': array([5, 5, 1], dtype=int8), 'relative_state': array([22,  0,  1], dtype=int16)}\n",
      "{'state': array([5, 5, 1], dtype=int8), 'relative_state': array([22,  0,  1], dtype=int16)}\n",
      "{'state': array([5, 5, 1], dtype=int8), 'relative_state': array([22,  0,  1], dtype=int16)}\n",
      "{'state': array([6, 5, 0], dtype=int8), 'relative_state': array([20, 22,  2], dtype=int16)}\n",
      "{'state': array([7, 6, 1], dtype=int8), 'relative_state': array([19,  1,  1], dtype=int16)}\n",
      "{'state': array([7, 6, 0], dtype=int8), 'relative_state': array([18, 20,  2], dtype=int16)}\n",
      "{'state': array([8, 5, 7], dtype=int8), 'relative_state': array([-3, 19,  3], dtype=int16)}\n",
      "{'state': array([9, 4, 7], dtype=int8), 'relative_state': array([-5, 19,  3], dtype=int16)}\n",
      "{'state': array([8, 4, 0], dtype=int8), 'relative_state': array([16, 24,  2], dtype=int16)}\n",
      "{'state': array([8, 4, 7], dtype=int8), 'relative_state': array([-4, 20,  3], dtype=int16)}\n",
      "{'state': array([9, 3, 7], dtype=int8), 'relative_state': array([-6, 20,  3], dtype=int16)}\n",
      "{'state': array([8, 3, 0], dtype=int8), 'relative_state': array([16, 26,  2], dtype=int16)}\n",
      "{'state': array([7, 2, 1], dtype=int8), 'relative_state': array([23,  5,  1], dtype=int16)}\n",
      "{'state': array([8, 2, 0], dtype=int8), 'relative_state': array([16, 28,  2], dtype=int16)}\n",
      "{'state': array([9, 1, 7], dtype=int8), 'relative_state': array([-8, 22,  3], dtype=int16)}\n",
      "{'state': array([9, 0, 6], dtype=int8), 'relative_state': array([-32,  14,   4], dtype=int16)}\n",
      "{'state': array([9, 0, 5], dtype=int8), 'relative_state': array([-23,  -9,   5], dtype=int16)}\n",
      "{'state': array([10,  1,  5], dtype=int8), 'relative_state': array([-21,  -9,   5], dtype=int16)}\n",
      "{'state': array([9, 1, 4], dtype=int8), 'relative_state': array([-14, -30,   6], dtype=int16)}\n"
     ]
    }
   ],
   "source": [
    "env = DiscreteUnicycleEnv()\n",
    "obs = env.reset(exploring=False)\n",
    "done = False\n",
    "\n",
    "for _ in range(20):\n",
    "    action = env.action_space.sample()  # Random action\n",
    "    obs, reward, done, info = env.step(action)\n",
    "    print(obs)\n",
    "env.close()"
   ]
  },
  {
   "cell_type": "code",
   "execution_count": null,
   "metadata": {},
   "outputs": [],
   "source": []
  }
 ],
 "metadata": {
  "kernelspec": {
   "display_name": "Python 3",
   "language": "python",
   "name": "python3"
  },
  "language_info": {
   "codemirror_mode": {
    "name": "ipython",
    "version": 3
   },
   "file_extension": ".py",
   "mimetype": "text/x-python",
   "name": "python",
   "nbconvert_exporter": "python",
   "pygments_lexer": "ipython3",
   "version": "3.8.5"
  }
 },
 "nbformat": 4,
 "nbformat_minor": 2
}
